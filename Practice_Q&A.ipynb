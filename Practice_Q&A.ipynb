{
 "cells": [
  {
   "cell_type": "code",
   "execution_count": null,
   "id": "20e50ab9",
   "metadata": {},
   "outputs": [],
   "source": [
    "class test:\n",
    "    def __init__(self):\n",
    "        self.x = 0\n",
    "class d(test):\n",
    "    def __init__(self):\n",
    "        test.__init__(self)\n",
    "        self.y = 1\n",
    "def main():\n",
    "    b = d()\n",
    "    print(b.x,b.y)\n"
   ]
  },
  {
   "cell_type": "code",
   "execution_count": null,
   "id": "10366d51",
   "metadata": {},
   "outputs": [],
   "source": [
    "main()"
   ]
  },
  {
   "cell_type": "code",
   "execution_count": null,
   "id": "4b4cf5be",
   "metadata": {},
   "outputs": [],
   "source": [
    "class A:\n",
    "    def one(self):\n",
    "        return self.two()\n",
    "    def two(self):\n",
    "        return 'A'\n",
    "class B(A):\n",
    "    def two(self):\n",
    "        return 'B'\n",
    "obj1 = A()\n",
    "obj2 = B()\n",
    "print(obj1.two(),obj2.two())"
   ]
  },
  {
   "cell_type": "code",
   "execution_count": null,
   "id": "448f6cf8",
   "metadata": {},
   "outputs": [],
   "source": [
    "f = foo()\n",
    "str(f)"
   ]
  },
  {
   "cell_type": "code",
   "execution_count": null,
   "id": "200a0906",
   "metadata": {},
   "outputs": [],
   "source": [
    "a = 'DAman'\n",
    "print(a[-1])"
   ]
  },
  {
   "cell_type": "code",
   "execution_count": null,
   "id": "d49e6296",
   "metadata": {},
   "outputs": [],
   "source": [
    "n1 = ['a','b','c','d']\n",
    "n2 = n1\n",
    "n3 = n1[:]\n",
    "n2[0] = 'aa'\n",
    "n3[1] = 'bb'\n",
    "\n",
    "sum = 0\n",
    "for i in (n1,n2,n3):\n",
    "    if i[0] == 'aa':\n",
    "        sum+=1\n",
    "    if i[1] == 'bb':\n",
    "        sum+=10\n",
    "print(sum)"
   ]
  },
  {
   "cell_type": "code",
   "execution_count": null,
   "id": "58f7100a",
   "metadata": {},
   "outputs": [],
   "source": [
    "def f(i, values=[]):\n",
    "    values.append(i)\n",
    "    return values\n",
    "f(1)\n",
    "f(2)\n",
    "v = f(3)\n",
    "print(v)"
   ]
  },
  {
   "cell_type": "code",
   "execution_count": null,
   "id": "dfb2f361",
   "metadata": {},
   "outputs": [],
   "source": [
    "print('a'-'b')"
   ]
  },
  {
   "cell_type": "code",
   "execution_count": null,
   "id": "0d4becb8",
   "metadata": {},
   "outputs": [],
   "source": [
    "a = {'B':5,'A':9,'C':7}\n",
    "b = sorted(a)"
   ]
  },
  {
   "cell_type": "code",
   "execution_count": null,
   "id": "11c4c9b2",
   "metadata": {},
   "outputs": [],
   "source": [
    "b = {}\n",
    "all(b)"
   ]
  },
  {
   "cell_type": "markdown",
   "id": "b45dc553",
   "metadata": {},
   "source": [
    "# Question 1"
   ]
  },
  {
   "cell_type": "code",
   "execution_count": null,
   "id": "17997de6",
   "metadata": {},
   "outputs": [],
   "source": [
    "import math"
   ]
  },
  {
   "cell_type": "code",
   "execution_count": 18,
   "id": "c289d223",
   "metadata": {},
   "outputs": [],
   "source": [
    "def plusMinus(arr):\n",
    "    zero = 0\n",
    "    pos = 0\n",
    "    neg = 0\n",
    "    for i in arr:\n",
    "        if i == 0:\n",
    "            zero = zero+1\n",
    "        elif i<0:\n",
    "            neg = neg+1\n",
    "        else:\n",
    "            pos = pos+1\n",
    "    print('%.6f'%(pos/len(arr)))\n",
    "    print('%.6f'%(neg/len(arr)))\n",
    "    print('%.6f'%(zero/len(arr)))"
   ]
  },
  {
   "cell_type": "code",
   "execution_count": 19,
   "id": "7d8a40c3",
   "metadata": {},
   "outputs": [
    {
     "name": "stdout",
     "output_type": "stream",
     "text": [
      "0.500000\n",
      "0.333333\n",
      "0.166667\n"
     ]
    }
   ],
   "source": [
    "#n = int(input().strip())\n",
    "\n",
    "#arr = list(map(int, input().rstrip().split()))\n",
    "arr = [-4,3,-9,0,4,1]\n",
    "plusMinus(arr)"
   ]
  },
  {
   "cell_type": "markdown",
   "id": "aff02372",
   "metadata": {},
   "source": [
    "# 2. Question"
   ]
  },
  {
   "cell_type": "code",
   "execution_count": 27,
   "id": "59abea09",
   "metadata": {},
   "outputs": [
    {
     "data": {
      "text/plain": [
       "[6, 5, 4, 3, 2, 1]"
      ]
     },
     "execution_count": 27,
     "metadata": {},
     "output_type": "execute_result"
    }
   ],
   "source": [
    "a = [1,2,3,4,5,6,7]\n",
    "a[-2::-1]"
   ]
  },
  {
   "cell_type": "code",
   "execution_count": null,
   "id": "b9cea42d",
   "metadata": {},
   "outputs": [],
   "source": [
    "ins = input().strip()\n",
    "\n",
    "is_pm = ins[-2:].lower() == 'pm'\n",
    "time_list = list(map(int, ins[:-2].split(':')))\n",
    "\n",
    "if is_pm and time_list[0] < 12:\n",
    "    time_list[0] += 12\n",
    "\n",
    "if not is_pm and time_list[0] == 12:\n",
    "    time_list[0] = 0\n",
    "\n",
    "print(':'.join(map(lambda x: str(x).rjust(2, '0'), time_list)))\n"
   ]
  },
  {
   "cell_type": "markdown",
   "id": "356c5478",
   "metadata": {},
   "source": [
    "## Company logo Hackerack"
   ]
  },
  {
   "cell_type": "code",
   "execution_count": 7,
   "id": "1de7d63a",
   "metadata": {},
   "outputs": [
    {
     "name": "stdout",
     "output_type": "stream",
     "text": [
      "qoijoi\n",
      "['i', 'i', 'j', 'o', 'o', 'q']\n"
     ]
    }
   ],
   "source": [
    "n = input()\n",
    "#n.split()\n",
    "m = sorted(n)\n",
    "res = ''\n"
   ]
  },
  {
   "cell_type": "code",
   "execution_count": null,
   "id": "24c4d391",
   "metadata": {},
   "outputs": [],
   "source": [
    "from collections import Counter\n",
    "\n",
    "s = input()\n",
    "\n",
    "print(*[f\"{a} {b}\" for a, b in Counter(sorted(s)).most_common(3)],sep='\\n')"
   ]
  },
  {
   "cell_type": "markdown",
   "id": "2ccd0b6f",
   "metadata": {},
   "source": [
    "# Question 4"
   ]
  },
  {
   "cell_type": "code",
   "execution_count": 1,
   "id": "8463691b",
   "metadata": {},
   "outputs": [],
   "source": [
    "def lonelyinteger(a):\n",
    "    count = 0\n",
    "    for num in a:\n",
    "        count ^= num\n",
    "    return count"
   ]
  },
  {
   "cell_type": "code",
   "execution_count": null,
   "id": "41006374",
   "metadata": {},
   "outputs": [],
   "source": []
  }
 ],
 "metadata": {
  "kernelspec": {
   "display_name": "Python 3 (ipykernel)",
   "language": "python",
   "name": "python3"
  },
  "language_info": {
   "codemirror_mode": {
    "name": "ipython",
    "version": 3
   },
   "file_extension": ".py",
   "mimetype": "text/x-python",
   "name": "python",
   "nbconvert_exporter": "python",
   "pygments_lexer": "ipython3",
   "version": "3.10.4"
  }
 },
 "nbformat": 4,
 "nbformat_minor": 5
}
