{
 "cells": [
  {
   "cell_type": "raw",
   "id": "9db4a66b",
   "metadata": {},
   "source": [
    "The defaultdict tool is a container in the collections class of Python. It's similar to the usual dictionary (dict) container, but the only difference is that a defaultdict will have a default value if that key has not been set yet. If you didn't use a defaultdict you'd have to check to see if that key exists, and if it doesn't, set it to what you want."
   ]
  },
  {
   "cell_type": "raw",
   "id": "ff3ff14c",
   "metadata": {},
   "source": [
    "In this challenge, you will be given 2 integers, n and m. There are n words, which might repeat, in word group A. There are m words belonging to word group B. For each m words, check whether the word has appeared in group A or not. Print the indices of each occurrence of m in group A. If it does not appear, print -1.\n",
    "\n",
    "Constraints :\n",
    "1 <= n <= 10000\n",
    "1 <= m <= 100\n",
    "1 <= length of each word in the input <= 100\n",
    "\n",
    "Input Format :\n",
    "The first line contains integers, n and m separated by a space.\n",
    "The next n lines contains the words belonging to group A.\n",
    "The next m lines contains the words belonging to group B.\n",
    "\n",
    "Output Format :\n",
    "Output m lines.\n",
    "The ith line should contain the 1-indexed positions of the occurrences of the ith word separated by spaces."
   ]
  },
  {
   "cell_type": "code",
   "execution_count": 3,
   "id": "72cd83d5",
   "metadata": {},
   "outputs": [
    {
     "name": "stdout",
     "output_type": "stream",
     "text": [
      "10 3\n",
      "a\n",
      "n\n",
      "b\n",
      "a\n",
      "n\n",
      "b\n",
      "a\n",
      "b\n",
      "b\n",
      "n\n",
      "a\n",
      "1 4 7\n",
      "b\n",
      "3 6 8 9\n",
      "m\n",
      "-1\n"
     ]
    }
   ],
   "source": [
    "# Enter your code here. Read input from STDIN. Print output to STDOUT\n",
    "from collections import defaultdict\n",
    "n,m = list(map(int,(input().split())))\n",
    "\n",
    "a = defaultdict(list)\n",
    "for i in range(1,n+1):\n",
    "    a[input()].append(i)\n",
    "for j in range(1,m+1):\n",
    "    b=input()\n",
    "    if b in a.keys() and len(a[b])>0:\n",
    "        ans = [str(i) for i in a[b]]\n",
    "        print(' '.join(ans))\n",
    "    else:\n",
    "        print(-1)"
   ]
  },
  {
   "cell_type": "code",
   "execution_count": null,
   "id": "c5d9d78d",
   "metadata": {},
   "outputs": [],
   "source": []
  },
  {
   "cell_type": "code",
   "execution_count": null,
   "id": "acc2138a",
   "metadata": {},
   "outputs": [],
   "source": []
  }
 ],
 "metadata": {
  "kernelspec": {
   "display_name": "Python 3 (ipykernel)",
   "language": "python",
   "name": "python3"
  },
  "language_info": {
   "codemirror_mode": {
    "name": "ipython",
    "version": 3
   },
   "file_extension": ".py",
   "mimetype": "text/x-python",
   "name": "python",
   "nbconvert_exporter": "python",
   "pygments_lexer": "ipython3",
   "version": "3.9.13"
  }
 },
 "nbformat": 4,
 "nbformat_minor": 5
}
