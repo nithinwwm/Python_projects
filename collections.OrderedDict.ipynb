{
 "cells": [
  {
   "cell_type": "markdown",
   "id": "b989460d",
   "metadata": {},
   "source": [
    "# collections.OrderedDict"
   ]
  },
  {
   "cell_type": "code",
   "execution_count": 21,
   "id": "f2194f19",
   "metadata": {},
   "outputs": [
    {
     "name": "stdout",
     "output_type": "stream",
     "text": [
      "9\n",
      "banana 10\n",
      "apple 10\n",
      "lemon 20\n",
      "candy 15\n",
      "apple 10\n",
      "banana 10\n",
      "candy 15\n",
      "lemon 10\n",
      "apple 20\n",
      "banana 20\n",
      "apple 40\n",
      "lemon 30\n",
      "candy 30\n"
     ]
    }
   ],
   "source": [
    "from collections import OrderedDict\n",
    "items = int(input())\n",
    "d = OrderedDict()\n",
    "for i in range(items):\n",
    "    name,price = input().split()\n",
    "    if name not in d.keys():\n",
    "        d[name] = int(price)\n",
    "    elif name in d.keys():\n",
    "        d[name] += int(price)\n",
    "for i,j in d.items():\n",
    "    print(f'{i} {j}')"
   ]
  },
  {
   "cell_type": "code",
   "execution_count": null,
   "id": "dc8c7d3e",
   "metadata": {},
   "outputs": [],
   "source": []
  },
  {
   "cell_type": "code",
   "execution_count": null,
   "id": "99ab7e39",
   "metadata": {},
   "outputs": [],
   "source": [
    "from collections import OrderedDict\n",
    "\n",
    "items = int(input())\n",
    "\n",
    "d = OrderedDict()\n",
    "for i in range(items):\n",
    "    name,price = input().rsplit(' ',1)\n",
    "    if name not in d.keys():\n",
    "        d[name] = int(price)\n",
    "    elif name in d.keys():\n",
    "        d[name] += int(price)\n",
    "for i,j in d.items():\n",
    "    print(f'{i} {j}')"
   ]
  },
  {
   "cell_type": "code",
   "execution_count": 5,
   "id": "caf2bdd4",
   "metadata": {},
   "outputs": [
    {
     "name": "stdout",
     "output_type": "stream",
     "text": [
      "2 1 1\n"
     ]
    }
   ],
   "source": [
    "d = {'a':2,'bnbnn':1,'ioppo':1}\n",
    "#print(' '.join([str(i) for i in d.values()]))\n",
    "print(*d.values())"
   ]
  },
  {
   "cell_type": "markdown",
   "id": "b84ec619",
   "metadata": {},
   "source": [
    "# Collections.deque"
   ]
  },
  {
   "cell_type": "code",
   "execution_count": 4,
   "id": "aa28f0ce",
   "metadata": {},
   "outputs": [
    {
     "name": "stdout",
     "output_type": "stream",
     "text": [
      "4\n",
      "append 1\n",
      "append 1\n",
      "append 13\n",
      "pop\n",
      "1 1\n"
     ]
    }
   ],
   "source": [
    "from collections import deque\n",
    "d = deque()\n",
    "n = int(input())\n",
    "for i in range(n):\n",
    "    fun = input().split()\n",
    "    if fun[0] == 'append':\n",
    "        d.append(int(fun[1]))\n",
    "    elif fun[0] == 'appendleft':\n",
    "        d.appendleft(int(fun[1]))\n",
    "    elif fun[0] == 'pop':\n",
    "        d.pop()\n",
    "    elif fun[0] == 'popleft':\n",
    "        d.popleft()\n",
    "print(*(d))"
   ]
  },
  {
   "cell_type": "code",
   "execution_count": 30,
   "id": "c67591fa",
   "metadata": {},
   "outputs": [
    {
     "data": {
      "text/plain": [
       "'e'"
      ]
     },
     "execution_count": 30,
     "metadata": {},
     "output_type": "execute_result"
    }
   ],
   "source": [
    "def uniquecount(s):\n",
    "    s = 'aaabebua'\n",
    "    d = {}\n",
    "    c = 1\n",
    "    for char in s:\n",
    "        if char not in d:\n",
    "            d[char] = c\n",
    "        else:\n",
    "            d[char] +=c\n",
    "    for key in d:\n",
    "        if d[key] == 1:\n",
    "            return key\n",
    "uniquecount(s)"
   ]
  },
  {
   "cell_type": "code",
   "execution_count": 39,
   "id": "1dbad90d",
   "metadata": {},
   "outputs": [
    {
     "name": "stdout",
     "output_type": "stream",
     "text": [
      "08 05 2015\n",
      "Wednesday\n"
     ]
    }
   ],
   "source": [
    "import calendar\n",
    "mmddyyyy = input().split(' ')\n",
    "wday = calendar.weekday(int(mmddyyyy[2]),int(mmddyyyy[0]),int(mmddyyyy[1]))\n",
    "print(calendar.day_name[wday])"
   ]
  },
  {
   "cell_type": "code",
   "execution_count": null,
   "id": "b5b6ba29",
   "metadata": {},
   "outputs": [],
   "source": []
  }
 ],
 "metadata": {
  "kernelspec": {
   "display_name": "Python 3 (ipykernel)",
   "language": "python",
   "name": "python3"
  },
  "language_info": {
   "codemirror_mode": {
    "name": "ipython",
    "version": 3
   },
   "file_extension": ".py",
   "mimetype": "text/x-python",
   "name": "python",
   "nbconvert_exporter": "python",
   "pygments_lexer": "ipython3",
   "version": "3.9.13"
  }
 },
 "nbformat": 4,
 "nbformat_minor": 5
}
