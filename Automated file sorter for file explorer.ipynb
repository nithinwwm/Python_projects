{
 "cells": [
  {
   "cell_type": "code",
   "execution_count": 1,
   "id": "6d055784-b966-432a-937f-acafee545902",
   "metadata": {},
   "outputs": [],
   "source": [
    "import os, shutil"
   ]
  },
  {
   "cell_type": "code",
   "execution_count": 2,
   "id": "30c19359-2087-44ec-9047-d4a73e7f34ba",
   "metadata": {},
   "outputs": [],
   "source": [
    "fp = r\"C:/Users/Alt/Downloads/\""
   ]
  },
  {
   "cell_type": "code",
   "execution_count": 3,
   "id": "b560daa8-7d3a-4dcf-8138-7ebd7951ef92",
   "metadata": {},
   "outputs": [
    {
     "data": {
      "text/plain": [
       "'C:/Users/Alt/Downloads/'"
      ]
     },
     "execution_count": 3,
     "metadata": {},
     "output_type": "execute_result"
    }
   ],
   "source": [
    "fp"
   ]
  },
  {
   "cell_type": "code",
   "execution_count": 12,
   "id": "fbf95cce-ed0a-49ee-961c-683b583800b5",
   "metadata": {},
   "outputs": [
    {
     "data": {
      "text/plain": [
       "['1700145341.pdf',\n",
       " 'ashleshabali_eprint.pdf',\n",
       " 'BingWallpaper.exe',\n",
       " 'BlueStacks10Installer_10.40.0.1008_native_30504ae005c143b8a9466e762c4f4658_MzsxNSwwOzUsMTsxNSw0OzE1.exe',\n",
       " 'ChromeSetup.exe',\n",
       " 'desktop.ini',\n",
       " 'EAadhaar_0690100640070020210122122104_14112023161037.pdf',\n",
       " 'FSViewerSetup78.exe',\n",
       " 'GLP_installer_900223152_com.activision.callofduty.shooter (1).exe',\n",
       " 'GLP_installer_900223152_com.activision.callofduty.shooter.exe',\n",
       " 'GoogleDriveSetup.exe',\n",
       " 'Killer-AX1690-AX1675-AX1650-and-Intel-AX411-AX211-AX210-AX201-AX200-9560-9462-9260-8265-8260-7265-3165_XJFW3_WIN64_22.200.0.2_A41_04.EXE',\n",
       " 'MSI-APP-Player.zip',\n",
       " 'msi.log',\n",
       " 'msp.log',\n",
       " 'mysql-installer-community-8.0.35.0.msi',\n",
       " 'mysql-installer-community-8.0.39.0.msi',\n",
       " 'mysql-workbench-community-8.0.34-winx64.msi',\n",
       " 'NITHIN_aadhar.pdf',\n",
       " 'pdfgear_setup_v2.1.8.exe',\n",
       " 'PowerToysUserSetup-0.83.0-x64.exe',\n",
       " 'python-3.12.2-amd64.exe',\n",
       " 'SupportAssistLauncher.exe',\n",
       " 'TeamViewer_Setup_x64.exe',\n",
       " 'VC_redist.x64.exe',\n",
       " 'VSCodeUserSetup-x64-1.87.2.exe']"
      ]
     },
     "execution_count": 12,
     "metadata": {},
     "output_type": "execute_result"
    }
   ],
   "source": [
    "all_files = os.listdir(fp)\n",
    "all_files"
   ]
  },
  {
   "cell_type": "code",
   "execution_count": 13,
   "id": "24afc49a-1b04-4502-8ff7-e69e1eb911a7",
   "metadata": {},
   "outputs": [],
   "source": [
    "file_types = [\"app files\", \"pdf files\", \"other files\"]\n",
    "\n",
    "for folders in range(len(file_types)):\n",
    "    if not os.path.exists(fp + file_types[folders]):\n",
    "        os.makedirs(fp + file_types[folders])"
   ]
  },
  {
   "cell_type": "code",
   "execution_count": null,
   "id": "5c6ef87f-c956-40dc-aa28-81cc97b08a73",
   "metadata": {},
   "outputs": [],
   "source": [
    "for file in all_files:\n",
    "    if  \".exe\" in file and not os.path.exists(fp + \"app files/\" + file):\n",
    "        shutil.move(fp+file , fp + \"app files/\" + file)\n",
    "    elif \".pdf\" in file and not os.path.exists(fp + \"pdf files/\" + file):\n",
    "        shutil.move(fp+file , fp + \"pdf files/\" + file)\n",
    "    else:\n",
    "        shutil.move(fp+file , fp + \"other files/\" + file)"
   ]
  },
  {
   "cell_type": "code",
   "execution_count": 7,
   "id": "870543d0-c299-4a1c-96b5-a2dae704e590",
   "metadata": {},
   "outputs": [
    {
     "data": {
      "text/plain": [
       "['app files', 'other files', 'pdf files']"
      ]
     },
     "execution_count": 7,
     "metadata": {},
     "output_type": "execute_result"
    }
   ],
   "source": [
    "result_files = os.listdir(fp)\n",
    "result_files"
   ]
  },
  {
   "cell_type": "code",
   "execution_count": 31,
   "id": "3794adea-12f6-4f64-8db7-742fb43550d0",
   "metadata": {},
   "outputs": [
    {
     "name": "stdout",
     "output_type": "stream",
     "text": [
      "app files = ['BingWallpaper.exe', 'BlueStacks10Installer_10.40.0.1008_native_30504ae005c143b8a9466e762c4f4658_MzsxNSwwOzUsMTsxNSw0OzE1.exe', 'ChromeSetup.exe', 'FSViewerSetup78.exe', 'GLP_installer_900223152_com.activision.callofduty.shooter (1).exe', 'GLP_installer_900223152_com.activision.callofduty.shooter.exe', 'GoogleDriveSetup.exe', 'pdfgear_setup_v2.1.8.exe', 'PowerToysUserSetup-0.83.0-x64.exe', 'python-3.12.2-amd64.exe', 'SupportAssistLauncher.exe', 'TeamViewer_Setup_x64.exe', 'VC_redist.x64.exe', 'VSCodeUserSetup-x64-1.87.2.exe'] \n",
      "\n",
      "other files = ['desktop.ini', 'Killer-AX1690-AX1675-AX1650-and-Intel-AX411-AX211-AX210-AX201-AX200-9560-9462-9260-8265-8260-7265-3165_XJFW3_WIN64_22.200.0.2_A41_04.EXE', 'MSI-APP-Player.zip', 'msi.log', 'msp.log', 'mysql-installer-community-8.0.35.0.msi', 'mysql-installer-community-8.0.39.0.msi', 'mysql-workbench-community-8.0.34-winx64.msi'] \n",
      "\n",
      "pdf files = ['1700145341.pdf', 'ashleshabali_eprint.pdf', 'EAadhaar_0690100640070020210122122104_14112023161037.pdf', 'NITHIN_aadhar.pdf'] \n",
      "\n"
     ]
    }
   ],
   "source": [
    "for i in result_files:\n",
    "    sorted_files = os.listdir(fp + i)\n",
    "    print(i, '=',sorted_files , \"\\n\")"
   ]
  }
 ],
 "metadata": {
  "kernelspec": {
   "display_name": "Python 3 (ipykernel)",
   "language": "python",
   "name": "python3"
  },
  "language_info": {
   "codemirror_mode": {
    "name": "ipython",
    "version": 3
   },
   "file_extension": ".py",
   "mimetype": "text/x-python",
   "name": "python",
   "nbconvert_exporter": "python",
   "pygments_lexer": "ipython3",
   "version": "3.12.2"
  }
 },
 "nbformat": 4,
 "nbformat_minor": 5
}
