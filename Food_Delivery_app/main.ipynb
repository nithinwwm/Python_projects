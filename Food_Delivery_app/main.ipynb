{
 "cells": [
  {
   "cell_type": "code",
   "execution_count": null,
   "id": "97623c66",
   "metadata": {},
   "outputs": [],
   "source": [
    "import admin as aa\n",
    "import user as us\n",
    "\n",
    "print('********** WELCOME TO FOODZY **********')\n",
    "\n",
    "inp = int(input('\\nPlease select an Option to Login 1. ADMIN \\n2.USER \\n3.EXIT' ))\n",
    "if inp == 1:\n",
    "    username = input('Enter the username of admin : ')\n",
    "    password = input('Enter the admin password : ')\n",
    "    if aa.admin_keys[username] == password:\n",
    "        print('*****You are Successfully LoggedIn as admin')\n",
    "        admin_crawler = True\n",
    "        while admin_crawler:\n",
    "            admin_choice = int(input('Please select an option from Admin panel : \\n1. Add New Food Item \\n2. Edit Food Item \\n3. View Menu \\n4. Remove Item from Menu \\n5. Exit'))\n",
    "            if admin_choice == 1:\n",
    "                aa.add_food_item()\n",
    "            elif admin_choice == 2:\n",
    "                aa.edit_food_item()\n",
    "            elif admin_choice == 3:\n",
    "                aa.view_menu()\n",
    "            elif admin_choice == 4:\n",
    "                aa.remove_item()\n",
    "            elif admin_choice == 5:\n",
    "                print('You have opted to exit out of admin panel')\n",
    "                admin_crawler = False\n",
    "            else:\n",
    "                print('Please select a valid Input!!')\n",
    "    else:\n",
    "        print('Username and Password doesnot Match \\nPlease Login Again \\nThank You')\n",
    "        \n",
    "elif inp == 2:\n",
    "    print('***** WELCOME to FOODZY *****')\n",
    "    inp2 = int(input('\\nPress 1 to Create a New account \\nPress 2 to Login \\nPress 3 to Main Menu'))\n",
    "    if inp2 == 1:\n",
    "        print(' Welcome to user register panel ')\n",
    "        pass\n",
    "    elif inp2 == 2:\n",
    "        print()\n",
    "    "
   ]
  }
 ],
 "metadata": {
  "kernelspec": {
   "display_name": "Python 3 (ipykernel)",
   "language": "python",
   "name": "python3"
  },
  "language_info": {
   "codemirror_mode": {
    "name": "ipython",
    "version": 3
   },
   "file_extension": ".py",
   "mimetype": "text/x-python",
   "name": "python",
   "nbconvert_exporter": "python",
   "pygments_lexer": "ipython3",
   "version": "3.9.12"
  }
 },
 "nbformat": 4,
 "nbformat_minor": 5
}
