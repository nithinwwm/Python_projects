{
 "cells": [
  {
   "cell_type": "raw",
   "id": "a992e2f1",
   "metadata": {},
   "source": [
    "# Task\n",
    "\n",
    "Raghu is a shoe shop owner. His shop has  number of shoes.\n",
    "He has a list containing the size of each shoe he has in his shop.\n",
    "There are  number of customers who are willing to pay  amount of money only if they get the shoe of their desired size.\n",
    "\n",
    "Your task is to compute how much money Raghu earned.\n",
    "\n",
    "Input Format\n",
    "First line contains, X number of shoes. \n",
    "Second line contains, space separated size of the shoes. \n",
    "Third line contains, N number of customers. \n",
    "Next N line contain, space separated values of shoe size and xi price of shoe.\n",
    "\n",
    "Constraints\n",
    "0<X<103 \n",
    "0<N≤103 \n",
    "20<xi<100 \n",
    "2<shoe size<20\n",
    "Output Format\n",
    "Print the amount of money earned by Raghu\n",
    "\n",
    "Sample Input\n",
    "10\n",
    "2 3 4 5 6 8 7 6 5 18\n",
    "6\n",
    "6 55\n",
    "6 45\n",
    "6 55\n",
    "4 40\n",
    "18 60\n",
    "10 50\n",
    "\n",
    "Sample Output\n",
    "200"
   ]
  },
  {
   "cell_type": "code",
   "execution_count": null,
   "id": "bee42646",
   "metadata": {},
   "outputs": [],
   "source": []
  },
  {
   "cell_type": "code",
   "execution_count": null,
   "id": "ef7971c0",
   "metadata": {},
   "outputs": [],
   "source": [
    "## Enter your code here. Read input from STDIN. Print output to STDOUT\n",
    "\n",
    "shoes = int(input())\n",
    "shoesize = list(map(int,input().split()))\n",
    "cust = int(input())\n",
    "orders = []\n",
    "for i in range(cust):\n",
    "    t = tuple(map(int,input().split()))\n",
    "    orders.append(t)\n",
    "# solution\n",
    "from collections import Counter\n",
    "sizestock = Counter(shoesize)\n",
    "price = 0\n",
    "for j,k in orders:\n",
    "    if j in sizestock.keys() and sizestock[j]>0:\n",
    "        sizestock[j] -=1\n",
    "        price = price+k\n",
    "print(price)"
   ]
  }
 ],
 "metadata": {
  "kernelspec": {
   "display_name": "Python 3 (ipykernel)",
   "language": "python",
   "name": "python3"
  },
  "language_info": {
   "codemirror_mode": {
    "name": "ipython",
    "version": 3
   },
   "file_extension": ".py",
   "mimetype": "text/x-python",
   "name": "python",
   "nbconvert_exporter": "python",
   "pygments_lexer": "ipython3",
   "version": "3.9.13"
  }
 },
 "nbformat": 4,
 "nbformat_minor": 5
}
