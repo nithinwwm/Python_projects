{
 "cells": [
  {
   "cell_type": "raw",
   "id": "a7233635",
   "metadata": {},
   "source": [
    "# Task:\n",
    "\n",
    "Dr. John Wesley has a spreadsheet containing a list of student's IDs, marks, class, and name.\n",
    "Your task is to help Dr. Wesley calculate the average marks of the students.\n",
    "Average = Sum of all marks / Total Students\n",
    "Note:\n",
    "Columns can be in any order. IDs, marks, class, and name can be written in any order in the spreadsheet.\n",
    "Column names are ID, MARKS, CLASS, and NAME. (The spelling and case type of these names won't change.)\n",
    "Input Format:\n",
    "The first line contains an integer N, the total number of students.\n",
    "The second line contains the names of the columns in any order.\n",
    "The next N lines contain the marks, IDs, name, and class, under their respective column names.\n",
    "Constraints:\n",
    "0 < N <= 100\n",
    "Output Format:\n",
    "\n",
    "Print the average marks of the list corrected to 2 decimal places.\n",
    "\n",
    "Sample Input:\n",
    "5\n",
    "ID         MARKS      NAME       CLASS     \n",
    "1          97         Raymond    7         \n",
    "2          50         Steven     4         \n",
    "3          91         Adrian     9         \n",
    "4          72         Stewart    5         \n",
    "5          80         Peter      6   \n",
    "TESTCASE 02:\n",
    "\n",
    "5\n",
    "MARKS      CLASS      NAME       ID        \n",
    "92         2          Calum      1         \n",
    "82         5          Scott      2         \n",
    "94         2          Jason      3         \n",
    "55         8          Glenn      4         \n",
    "82         2          Fergus     5\n",
    "\n",
    "Sample Output:\n",
    "\n",
    "TESTCASE 01:\n",
    "\n",
    "78.00\n",
    "TESTCASE 02:\n",
    "\n",
    "81.00"
   ]
  },
  {
   "cell_type": "code",
   "execution_count": null,
   "id": "7620fc60",
   "metadata": {},
   "outputs": [],
   "source": [
    "# Enter your code here. Read input from STDIN. Print output to STDOUT\n",
    "\n",
    "from collections import namedtuple\n",
    "n = int(input())\n",
    "students = namedtuple('students',input().split())\n",
    "summarks = 0\n",
    "for i in range(n):\n",
    "    studenttable = students(*(input().split()))\n",
    "    summarks = summarks+int(studenttable.MARKS)\n",
    "avgmarks = summarks/n\n",
    "print('%.2f'%avgmarks)"
   ]
  },
  {
   "cell_type": "code",
   "execution_count": null,
   "id": "5a777d83",
   "metadata": {},
   "outputs": [],
   "source": []
  }
 ],
 "metadata": {
  "kernelspec": {
   "display_name": "Python 3 (ipykernel)",
   "language": "python",
   "name": "python3"
  },
  "language_info": {
   "codemirror_mode": {
    "name": "ipython",
    "version": 3
   },
   "file_extension": ".py",
   "mimetype": "text/x-python",
   "name": "python",
   "nbconvert_exporter": "python",
   "pygments_lexer": "ipython3",
   "version": "3.9.13"
  }
 },
 "nbformat": 4,
 "nbformat_minor": 5
}
