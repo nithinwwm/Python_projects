{
 "cells": [
  {
   "cell_type": "code",
   "execution_count": 86,
   "id": "c4f30927",
   "metadata": {},
   "outputs": [],
   "source": [
    "class Movie:\n",
    "    \n",
    "    def __init__(self,rows,columns):\n",
    "        self.total_seats = rows*columns\n",
    "        self.all_seats = [[str(i)+'_'+str(j) for j in range(columns)] for i in range(rows)]\n",
    "        self.bookedseats_person = [[None for j in range(columns)] for i in range(rows)]\n",
    "        self.ticket_price = 100\n",
    "        self.total_income = 0\n",
    "        self.booked_seats = 0\n",
    "        \n",
    "    def book_seats(self,name,row,col,phoneno,age,gender):\n",
    "        #print(self.total_seats)\n",
    "        if self.all_seats[row][col] == str(row)+'_'+str(col):\n",
    "            self.person_details = {\n",
    "                'Name':name,\n",
    "                'Phone no':phoneno,\n",
    "                'Age':age,\n",
    "                'Gender':gender\n",
    "            }\n",
    "            self.bookedseats_person[row][col] = self.person_details\n",
    "            self.all_seats[row][col] = 'B'\n",
    "            self.total_income += self.ticket_price\n",
    "            self.booked_seats +=1\n",
    "            print('\\n***** Your ticket has been Booked successfully *****\\n')\n",
    "        else:\n",
    "            print('\\n***** The seat is not available!! *****\\n')\n",
    "    \n",
    "    def print_total_seats(self):\n",
    "        print(f'Total Number of seats {self.total_seats}')\n",
    "        \n",
    "    def show_seats(self):\n",
    "        for row in self.all_seats:\n",
    "            for each_seat in row:\n",
    "                print(each_seat, end=' ')\n",
    "            print('\\n--------------------------------------------\\n')\n",
    "    \n",
    "    def total_income_owner(self):\n",
    "        print(f'Total number of Booked Seats {self.booked_seats}')\n",
    "        print(f'\\nEarnings : {self.total_income}')\n",
    "        \n",
    "    def cancel_booking(self,row,col):\n",
    "        if self.bookedseats_person[row][col] is None:\n",
    "            print('This seat is not booked')\n",
    "        else:\n",
    "            self.bookedseats_person[row][col] = None\n",
    "            self.all_seats[row][col] = str(row)+'_'+str(col)\n",
    "            self.total_income -= self.ticket_price\n",
    "            self.booked_seats -= 1\n",
    "            print('***** Your ticket has been Cancelled!! *****')\n",
    "            \n",
    "    \n",
    "    def available_seats(self):\n",
    "        print(f'{self.total_seats - self.booked_seats}')\n",
    "        \n",
    "    def show_Booked_person_details(self,row,col):\n",
    "        print(self.bookedseats_person[row][col])"
   ]
  },
  {
   "cell_type": "code",
   "execution_count": 87,
   "id": "6ed4c8d0",
   "metadata": {},
   "outputs": [],
   "source": [
    "PVR = Movie(10,10)"
   ]
  },
  {
   "cell_type": "code",
   "execution_count": 88,
   "id": "5dded98f",
   "metadata": {},
   "outputs": [
    {
     "name": "stdout",
     "output_type": "stream",
     "text": [
      "\n",
      "***** Your ticket has been Booked successfully *****\n",
      "\n",
      "\n",
      "***** Your ticket has been Booked successfully *****\n",
      "\n",
      "\n",
      "***** Your ticket has been Booked successfully *****\n",
      "\n",
      "\n",
      "***** Your ticket has been Booked successfully *****\n",
      "\n"
     ]
    }
   ],
   "source": [
    "PVR.book_seats('A',3,1,789754646,28,'Male')\n",
    "PVR.book_seats('B',3,2,789754646,26,'Male')\n",
    "PVR.book_seats('C',3,3,789754646,26,'Male')\n",
    "PVR.book_seats('D',3,4,789754646,29,'Female')"
   ]
  },
  {
   "cell_type": "code",
   "execution_count": 89,
   "id": "087eabb5",
   "metadata": {},
   "outputs": [
    {
     "name": "stdout",
     "output_type": "stream",
     "text": [
      "Total Number of seats 100\n"
     ]
    }
   ],
   "source": [
    "PVR.print_total_seats()"
   ]
  },
  {
   "cell_type": "code",
   "execution_count": 90,
   "id": "da00b561",
   "metadata": {},
   "outputs": [
    {
     "name": "stdout",
     "output_type": "stream",
     "text": [
      "0_0 0_1 0_2 0_3 0_4 0_5 0_6 0_7 0_8 0_9 \n",
      "--------------------------------------------\n",
      "\n",
      "1_0 1_1 1_2 1_3 1_4 1_5 1_6 1_7 1_8 1_9 \n",
      "--------------------------------------------\n",
      "\n",
      "2_0 2_1 2_2 2_3 2_4 2_5 2_6 2_7 2_8 2_9 \n",
      "--------------------------------------------\n",
      "\n",
      "3_0 B B B B 3_5 3_6 3_7 3_8 3_9 \n",
      "--------------------------------------------\n",
      "\n",
      "4_0 4_1 4_2 4_3 4_4 4_5 4_6 4_7 4_8 4_9 \n",
      "--------------------------------------------\n",
      "\n",
      "5_0 5_1 5_2 5_3 5_4 5_5 5_6 5_7 5_8 5_9 \n",
      "--------------------------------------------\n",
      "\n",
      "6_0 6_1 6_2 6_3 6_4 6_5 6_6 6_7 6_8 6_9 \n",
      "--------------------------------------------\n",
      "\n",
      "7_0 7_1 7_2 7_3 7_4 7_5 7_6 7_7 7_8 7_9 \n",
      "--------------------------------------------\n",
      "\n",
      "8_0 8_1 8_2 8_3 8_4 8_5 8_6 8_7 8_8 8_9 \n",
      "--------------------------------------------\n",
      "\n",
      "9_0 9_1 9_2 9_3 9_4 9_5 9_6 9_7 9_8 9_9 \n",
      "--------------------------------------------\n",
      "\n"
     ]
    }
   ],
   "source": [
    "PVR.show_seats()"
   ]
  },
  {
   "cell_type": "code",
   "execution_count": 57,
   "id": "e0f2509f",
   "metadata": {},
   "outputs": [
    {
     "name": "stdout",
     "output_type": "stream",
     "text": [
      "Total number of Booked Seats 4\n",
      "\n",
      "Earnings : 400\n"
     ]
    }
   ],
   "source": [
    "PVR.total_income_owner()"
   ]
  },
  {
   "cell_type": "code",
   "execution_count": 92,
   "id": "d408753b",
   "metadata": {},
   "outputs": [
    {
     "name": "stdout",
     "output_type": "stream",
     "text": [
      "***** Your ticket has been Cancelled!! *****\n"
     ]
    }
   ],
   "source": [
    "PVR.cancel_booking(3,4)"
   ]
  },
  {
   "cell_type": "code",
   "execution_count": 59,
   "id": "b8bc05fb",
   "metadata": {},
   "outputs": [
    {
     "name": "stdout",
     "output_type": "stream",
     "text": [
      "Total number of Booked Seats 3\n",
      "\n",
      "Earnings : 300\n"
     ]
    }
   ],
   "source": [
    "PVR.total_income_owner()"
   ]
  },
  {
   "cell_type": "code",
   "execution_count": 94,
   "id": "d38abb92",
   "metadata": {},
   "outputs": [
    {
     "name": "stdout",
     "output_type": "stream",
     "text": [
      "{'Name': 'C', 'Phone no': 789754646, 'Age': 26, 'Gender': 'Male'}\n",
      "None\n"
     ]
    }
   ],
   "source": [
    "#PVR.show_Booked_person_details(3,1)\n",
    "#PVR.show_Booked_person_details(3,2)\n",
    "PVR.show_Booked_person_details(3,3)\n",
    "PVR.show_Booked_person_details(3,4)"
   ]
  },
  {
   "cell_type": "code",
   "execution_count": 95,
   "id": "5aa3cb83",
   "metadata": {},
   "outputs": [
    {
     "data": {
      "text/plain": [
       "True"
      ]
     },
     "execution_count": 95,
     "metadata": {},
     "output_type": "execute_result"
    }
   ],
   "source": [
    "isinstance(PVR,Movie)"
   ]
  },
  {
   "cell_type": "code",
   "execution_count": null,
   "id": "d550000b",
   "metadata": {},
   "outputs": [],
   "source": []
  }
 ],
 "metadata": {
  "kernelspec": {
   "display_name": "Python 3 (ipykernel)",
   "language": "python",
   "name": "python3"
  },
  "language_info": {
   "codemirror_mode": {
    "name": "ipython",
    "version": 3
   },
   "file_extension": ".py",
   "mimetype": "text/x-python",
   "name": "python",
   "nbconvert_exporter": "python",
   "pygments_lexer": "ipython3",
   "version": "3.9.12"
  }
 },
 "nbformat": 4,
 "nbformat_minor": 5
}
