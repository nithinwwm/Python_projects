{
 "cells": [
  {
   "cell_type": "code",
   "execution_count": 1,
   "id": "388ee195",
   "metadata": {},
   "outputs": [],
   "source": [
    "#ADMIN Module\n",
    "#Admin will have the following functionalities:\n",
    "#Add new food items. Food Item will have the following details:\n",
    "#FoodID //It should be generated automatically by the application.\n",
    "#Name\n",
    "#Quantity. For eg, 100ml, 250gm, 4pieces etc\n",
    "#Price\n",
    "#Discount\n",
    "#Stock. Amount left in stock in the restaurant.\n",
    "#Edit food items using FoodID.\n",
    "#View the list of all food items.\n",
    "#Remove a food item from the menu using FoodID.]\n",
    "\n",
    "admin_keys = {'Nithin':'nithin@123'}\n",
    "\n",
    "Menu = {1:{'FoodID':1, 'Name':'Tandoori Chicken', 'Quantity':1, 'Price':240, 'Discount': '20%', 'Stock':'4pieces'},\n",
    "        2:{'FoodID':2, 'Name':'Vegan Burger', 'Quantity':1, 'Price': 320, 'Discount':'10%', 'Stock':'3pieces'},\n",
    "        3:{'FoodID':3, 'Name':'Truffle Cake', 'Quantity':500, 'Price': 900, 'Discount':'10%', 'Stock':'3500gm'}}\n",
    "\n",
    "\n",
    "def add_food_item():\n",
    "    foodID = int(input('Enter the FoodId : '))\n",
    "    foodname = input('Enter the New Food Item to add : ' )\n",
    "    quantity = int(input('Enter the quantity : ' ))\n",
    "    price = int(input('Enter the price/piece : ' ))\n",
    "    discount = input('Enter the discount you want to offer : ' )\n",
    "    stock = input('Enter available stock of item : ' )\n",
    "    Menu[foodID] = {'FoodID':foodID, 'Name':foodname, 'Quantity':quantity, 'Price':price, 'Discount':discount, 'Stock':stock}\n",
    "    \n",
    "    print(f'The item {foodname} has successfully added to the Menu')\n",
    "    return Menu\n",
    "    \n",
    "def edit_food_item():\n",
    "    print(Menu)\n",
    "    item = int(input('Enter the foodId you wish to edit : '))\n",
    "    a = input('Enter the Food item, edited name : ')\n",
    "    b = int(input('Enter the new price : '))\n",
    "    c = input('Enter the new available Stock : ')\n",
    "    Menu[item]['Name'] = a\n",
    "    Menu[item]['Price'] = b\n",
    "    Menu[item]['Stock'] = c\n",
    "    print('\\n********** Food Item edited successfully **********')\n",
    "    return Menu\n",
    "\n",
    "def view_menu():\n",
    "    print('********** Available Food Items in the Menu **********')\n",
    "    for i in Menu:\n",
    "        print('Item ID : ',Menu[i]['FoodID'])\n",
    "        print('Item Name : ',Menu[i]['Name'])\n",
    "        print('Item Price : ',Menu[i]['Price'], 'INR')\n",
    "        print('Stock Available : ',Menu[i]['Stock'])\n",
    "        \n",
    "def remove_item():\n",
    "    d = int(input('Enter the foodID you wish to remove : '))\n",
    "    Menu.pop(d)\n",
    "    print('\\n********** Item Removed Successfully **********')\n",
    "    return Menu"
   ]
  },
  {
   "cell_type": "code",
   "execution_count": 3,
   "id": "d892715d",
   "metadata": {},
   "outputs": [
    {
     "name": "stdout",
     "output_type": "stream",
     "text": [
      "{1: {'FoodID': 1, 'Name': 'Tandoori Chicken', 'Quantity': 1, 'Price': 240, 'Discount': '20%', 'Stock': '4pieces'}, 2: {'FoodID': 2, 'Name': 'Vegan Burger', 'Quantity': 1, 'Price': 320, 'Discount': '10%', 'Stock': '3pieces'}, 3: {'FoodID': 3, 'Name': 'Truffle Cake', 'Quantity': 500, 'Price': 900, 'Discount': '10%', 'Stock': '3500gm'}, 4: {'FoodID': 4, 'Name': 'Butter Chicken', 'Quantity': 1, 'Price': 180, 'Discount': '10%', 'Stock': '10'}}\n",
      "Enter the foodId you wish to edit : 3\n",
      "Enter the Food item, edited name : truffle cake\n",
      "Enter the new price : 950\n",
      "Enter the new available Stock : 4000gm\n",
      "********** Food Item edited successfully **********\n"
     ]
    },
    {
     "data": {
      "text/plain": [
       "{1: {'FoodID': 1,\n",
       "  'Name': 'Tandoori Chicken',\n",
       "  'Quantity': 1,\n",
       "  'Price': 240,\n",
       "  'Discount': '20%',\n",
       "  'Stock': '4pieces'},\n",
       " 2: {'FoodID': 2,\n",
       "  'Name': 'Vegan Burger',\n",
       "  'Quantity': 1,\n",
       "  'Price': 320,\n",
       "  'Discount': '10%',\n",
       "  'Stock': '3pieces'},\n",
       " 3: {'FoodID': 3,\n",
       "  'Name': 'truffle cake',\n",
       "  'Quantity': 500,\n",
       "  'Price': 950,\n",
       "  'Discount': '10%',\n",
       "  'Stock': '4000gm'},\n",
       " 4: {'FoodID': 4,\n",
       "  'Name': 'Butter Chicken',\n",
       "  'Quantity': 1,\n",
       "  'Price': 180,\n",
       "  'Discount': '10%',\n",
       "  'Stock': '10'}}"
      ]
     },
     "execution_count": 3,
     "metadata": {},
     "output_type": "execute_result"
    }
   ],
   "source": [
    "edit_food_item()"
   ]
  },
  {
   "cell_type": "code",
   "execution_count": 2,
   "id": "eb75ee03",
   "metadata": {},
   "outputs": [
    {
     "name": "stdout",
     "output_type": "stream",
     "text": [
      "********** Available Food Items in the Menu **********\n",
      "Item ID :  1\n",
      "Item Name :  Tandoori Chicken\n",
      "Item Price :  240 INR\n",
      "Stock Available :  4pieces\n",
      "Item ID :  2\n",
      "Item Name :  Vegan Burger\n",
      "Item Price :  320 INR\n",
      "Stock Available :  3pieces\n",
      "Item ID :  3\n",
      "Item Name :  Truffle Cake\n",
      "Item Price :  900 INR\n",
      "Stock Available :  3500gm\n"
     ]
    }
   ],
   "source": [
    "view_menu()"
   ]
  },
  {
   "cell_type": "code",
   "execution_count": null,
   "id": "797c4493",
   "metadata": {},
   "outputs": [],
   "source": []
  }
 ],
 "metadata": {
  "kernelspec": {
   "display_name": "Python 3 (ipykernel)",
   "language": "python",
   "name": "python3"
  },
  "language_info": {
   "codemirror_mode": {
    "name": "ipython",
    "version": 3
   },
   "file_extension": ".py",
   "mimetype": "text/x-python",
   "name": "python",
   "nbconvert_exporter": "python",
   "pygments_lexer": "ipython3",
   "version": "3.9.12"
  }
 },
 "nbformat": 4,
 "nbformat_minor": 5
}
