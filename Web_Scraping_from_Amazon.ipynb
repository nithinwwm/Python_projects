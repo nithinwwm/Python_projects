{
 "cells": [
  {
   "cell_type": "code",
   "execution_count": 95,
   "id": "c421d6eb-31a4-447e-9bbc-8eb952bfc8ab",
   "metadata": {},
   "outputs": [],
   "source": [
    "# Importing libraries\n",
    "\n",
    "from bs4 import BeautifulSoup\n",
    "import requests\n",
    "import time\n",
    "import datetime\n",
    "import smtplib\n",
    "import re"
   ]
  },
  {
   "cell_type": "code",
   "execution_count": 107,
   "id": "631541b4-ba71-4364-bcab-e138d9a78c80",
   "metadata": {},
   "outputs": [
    {
     "name": "stdout",
     "output_type": "stream",
     "text": [
      "Google Pixel 9 - Unlocked Android Smartphone with Gemini, 24-Hour Battery, Advanced Camera, and 6.3\" Actua Display - Obsidian - 128 GB\n",
      "786.99\n"
     ]
    }
   ],
   "source": [
    "# Connect to Amazon to get content\n",
    "\n",
    "url = r'https://www.amazon.com/Google-Pixel-Unlocked-Smartphone-Advanced/dp/B0D7HWJDQM/ref=sr_1_3?crid=ER064ZCXUIOH&currency=INR&dib=eyJ2IjoiMSJ9.0lh15EoitxgNUltiuniQ3EKkzFeEHdda99nbfB2oxF9D-i1fiiPpotIm6j3oXwU6c9vJTZopkZjzvMwcGyVMUIjfJzJCJMMze4c0PuDWx7GXDHlC_C6A-su2FaiADPKVEDUqeXz7qtpnrVLXtz4T493UfFiOvryZ30lln_1jV1okiyNgggKdHy0JSUTnCKCizDqpHDsctj6nwBihpCAK-ZZ9rz9ho7gtXBC6UoyLWuo.bTWjdrMX9C1SMBVp8JNC8KFUBfTPibGgYua1DkcnGkI&dib_tag=se&keywords=pixel%2B9%2Bpro&qid=1726524461&sprefix=pixel%2Caps%2C566&sr=8-3&th=1'\n",
    "\n",
    "headers = {\"User-Agent\": \"Mozilla/5.0 (Windows NT 10.0; Win64; x64) AppleWebKit/537.36 (KHTML, like Gecko) Chrome/128.0.0.0 Safari/537.36\",\"Accept-Encoding\":\"gzip, deflate\", \"Accept\":\"text/html,application/xhtml+xml,application/xml;q=0.9,*/*;q=0.8\", \"DNT\":\"1\",\"Connection\":\"close\", \"Upgrade-Insecure-Requests\":\"1\"}\n",
    "\n",
    "page = requests.get(url, headers = headers)\n",
    "\n",
    "soup1 = BeautifulSoup(page.content, 'html.parser')\n",
    "\n",
    "soup2 = BeautifulSoup(soup1.prettify(), 'html.parser')\n",
    "\n",
    "title = soup2.find(id='productTitle').get_text()\n",
    "title = title.strip()\n",
    "\n",
    "price = soup2.find(id='corePrice_desktop').get_text()\n",
    "price = re.findall(\"[0-9]+.[0-9]+\", price)\n",
    "price = price[0]\n",
    "\n",
    "print(title)\n",
    "print(price)"
   ]
  },
  {
   "cell_type": "code",
   "execution_count": 97,
   "id": "593cc7f1-82b2-4e36-abe8-7685f409cac5",
   "metadata": {},
   "outputs": [],
   "source": [
    "# Now we have title and price of the product\n",
    "# Lets create a csv file and read the csv file in pandas\n",
    "# Also lets add one more column date for todays date"
   ]
  },
  {
   "cell_type": "code",
   "execution_count": 110,
   "id": "892e9259-796f-421a-9dd2-abd810b282f4",
   "metadata": {},
   "outputs": [
    {
     "name": "stdout",
     "output_type": "stream",
     "text": [
      "2024-09-22\n"
     ]
    }
   ],
   "source": [
    "import datetime\n",
    "today = datetime.date.today()\n",
    "print(today)"
   ]
  },
  {
   "cell_type": "code",
   "execution_count": 113,
   "id": "1a3aa49b-f241-4a22-b919-df59592f11cf",
   "metadata": {},
   "outputs": [],
   "source": [
    "import csv\n",
    "\n",
    "header = ['Title', 'Price','Date']\n",
    "data = [title, price, today]\n",
    "\n",
    "with open ('Web_Scraping_from_Amazon.csv' , 'w+' , newline='', encoding = 'UTF8') as f:\n",
    "    csvwriter = csv.writer(f)                # creating a csv file\n",
    "    csvwriter.writerow(header)               # adding header and data to csv file\n",
    "    csvwriter.writerow(data)"
   ]
  },
  {
   "cell_type": "code",
   "execution_count": 122,
   "id": "a38b8db3-cccd-4e01-bed2-08b724012ed1",
   "metadata": {},
   "outputs": [
    {
     "name": "stdout",
     "output_type": "stream",
     "text": [
      "                                               Title   Price        Date\n",
      "0  Google Pixel 9 - Unlocked Android Smartphone w...  786.99  2024-09-22\n"
     ]
    }
   ],
   "source": [
    "# Now lets read the csv file with Pandas\n",
    "\n",
    "import pandas as pd\n",
    "\n",
    "df = pd.read_csv(r'C:\\Users\\Alt\\Documents\\jupyter notebook files\\Git\\Web_Scraping_from_Amazon.csv')\n",
    "print(df)"
   ]
  },
  {
   "cell_type": "code",
   "execution_count": 127,
   "id": "61bc1b66-2745-4d58-ba2e-5e727ce0ecf8",
   "metadata": {},
   "outputs": [],
   "source": [
    "# To append data to csv\n",
    "\n",
    "with open('Web_Scraping_from_Amazon.csv', 'a+', newline='', encoding = 'UTF8') as f:\n",
    "    csvwriter = csv.writer(f)\n",
    "    csvwriter.writerow(data)"
   ]
  },
  {
   "cell_type": "code",
   "execution_count": 130,
   "id": "9e2e2d3b-eb99-453f-86c9-a3e9ce03fd56",
   "metadata": {},
   "outputs": [],
   "source": [
    "# Now lets create a funtion to check price\n",
    "\n",
    "def amazon_price_check():\n",
    "\n",
    "    from bs4 import BeautifulSoup\n",
    "    import requests\n",
    "    import time\n",
    "    import datetime\n",
    "    import smtplib\n",
    "    import re\n",
    "    \n",
    "    url = r'https://www.amazon.com/Google-Pixel-Unlocked-Smartphone-Advanced/dp/B0D7HWJDQM/ref=sr_1_3?crid=ER064ZCXUIOH&currency=INR&dib=eyJ2IjoiMSJ9.0lh15EoitxgNUltiuniQ3EKkzFeEHdda99nbfB2oxF9D-i1fiiPpotIm6j3oXwU6c9vJTZopkZjzvMwcGyVMUIjfJzJCJMMze4c0PuDWx7GXDHlC_C6A-su2FaiADPKVEDUqeXz7qtpnrVLXtz4T493UfFiOvryZ30lln_1jV1okiyNgggKdHy0JSUTnCKCizDqpHDsctj6nwBihpCAK-ZZ9rz9ho7gtXBC6UoyLWuo.bTWjdrMX9C1SMBVp8JNC8KFUBfTPibGgYua1DkcnGkI&dib_tag=se&keywords=pixel%2B9%2Bpro&qid=1726524461&sprefix=pixel%2Caps%2C566&sr=8-3&th=1'\n",
    "    headers = {\"User-Agent\": \"Mozilla/5.0 (Windows NT 10.0; Win64; x64) AppleWebKit/537.36 (KHTML, like Gecko) Chrome/128.0.0.0 Safari/537.36\",\"Accept-Encoding\":\"gzip, deflate\", \"Accept\":\"text/html,application/xhtml+xml,application/xml;q=0.9,*/*;q=0.8\", \"DNT\":\"1\",\"Connection\":\"close\", \"Upgrade-Insecure-Requests\":\"1\"}\n",
    "    \n",
    "    page = requests.get(url, headers = headers)\n",
    "\n",
    "    soup1 = BeautifulSoup(page.content, 'html.parser')\n",
    "    soup2 = BeautifulSoup(soup1.prettify(), 'html.parser')\n",
    "\n",
    "    title = soup2.find(id='productTitle').get_text()\n",
    "    title = title.strip()\n",
    "    price = soup2.find(id='corePrice_desktop').get_text()\n",
    "    price = re.findall(\"[0-9]+.[0-9]+\", price)\n",
    "    price = price[0]\n",
    "\n",
    "    today = datetime.date.today()\n",
    "\n",
    "    header = ['Title', 'Price','Date']\n",
    "    data = [title, price, today]\n",
    "\n",
    "    with open('Web_Scraping_from_Amazon.csv', 'a+', newline='', encoding = 'UTF8') as f:\n",
    "        csvwriter = csv.writer(f)\n",
    "        csvwriter.writerow(data)"
   ]
  },
  {
   "cell_type": "code",
   "execution_count": 135,
   "id": "5b34556a-d8b9-4a1f-9430-4993f74a51ce",
   "metadata": {},
   "outputs": [
    {
     "ename": "PermissionError",
     "evalue": "[Errno 13] Permission denied: 'Web_Scraping_from_Amazon.csv'",
     "output_type": "error",
     "traceback": [
      "\u001b[1;31m---------------------------------------------------------------------------\u001b[0m",
      "\u001b[1;31mPermissionError\u001b[0m                           Traceback (most recent call last)",
      "Cell \u001b[1;32mIn[135], line 4\u001b[0m\n\u001b[0;32m      1\u001b[0m \u001b[38;5;66;03m# Now we can automate the process with time library\u001b[39;00m\n\u001b[0;32m      3\u001b[0m \u001b[38;5;28;01mwhile\u001b[39;00m(\u001b[38;5;28;01mTrue\u001b[39;00m):\n\u001b[1;32m----> 4\u001b[0m     \u001b[43mamazon_price_check\u001b[49m\u001b[43m(\u001b[49m\u001b[43m)\u001b[49m\n\u001b[0;32m      5\u001b[0m     time\u001b[38;5;241m.\u001b[39msleep(\u001b[38;5;241m86400\u001b[39m)                      \u001b[38;5;66;03m#in 1 Day = 86400 seconds\u001b[39;00m\n",
      "Cell \u001b[1;32mIn[130], line 31\u001b[0m, in \u001b[0;36mamazon_price_check\u001b[1;34m()\u001b[0m\n\u001b[0;32m     28\u001b[0m header \u001b[38;5;241m=\u001b[39m [\u001b[38;5;124m'\u001b[39m\u001b[38;5;124mTitle\u001b[39m\u001b[38;5;124m'\u001b[39m, \u001b[38;5;124m'\u001b[39m\u001b[38;5;124mPrice\u001b[39m\u001b[38;5;124m'\u001b[39m,\u001b[38;5;124m'\u001b[39m\u001b[38;5;124mDate\u001b[39m\u001b[38;5;124m'\u001b[39m]\n\u001b[0;32m     29\u001b[0m data \u001b[38;5;241m=\u001b[39m [title, price, today]\n\u001b[1;32m---> 31\u001b[0m \u001b[38;5;28;01mwith\u001b[39;00m \u001b[38;5;28;43mopen\u001b[39;49m\u001b[43m(\u001b[49m\u001b[38;5;124;43m'\u001b[39;49m\u001b[38;5;124;43mWeb_Scraping_from_Amazon.csv\u001b[39;49m\u001b[38;5;124;43m'\u001b[39;49m\u001b[43m,\u001b[49m\u001b[43m \u001b[49m\u001b[38;5;124;43m'\u001b[39;49m\u001b[38;5;124;43ma+\u001b[39;49m\u001b[38;5;124;43m'\u001b[39;49m\u001b[43m,\u001b[49m\u001b[43m \u001b[49m\u001b[43mnewline\u001b[49m\u001b[38;5;241;43m=\u001b[39;49m\u001b[38;5;124;43m'\u001b[39;49m\u001b[38;5;124;43m'\u001b[39;49m\u001b[43m,\u001b[49m\u001b[43m \u001b[49m\u001b[43mencoding\u001b[49m\u001b[43m \u001b[49m\u001b[38;5;241;43m=\u001b[39;49m\u001b[43m \u001b[49m\u001b[38;5;124;43m'\u001b[39;49m\u001b[38;5;124;43mUTF8\u001b[39;49m\u001b[38;5;124;43m'\u001b[39;49m\u001b[43m)\u001b[49m \u001b[38;5;28;01mas\u001b[39;00m f:\n\u001b[0;32m     32\u001b[0m     csvwriter \u001b[38;5;241m=\u001b[39m csv\u001b[38;5;241m.\u001b[39mwriter(f)\n\u001b[0;32m     33\u001b[0m     csvwriter\u001b[38;5;241m.\u001b[39mwriterow(data)\n",
      "File \u001b[1;32m~\\AppData\\Local\\Programs\\Python\\Python312\\Lib\\site-packages\\IPython\\core\\interactiveshell.py:324\u001b[0m, in \u001b[0;36m_modified_open\u001b[1;34m(file, *args, **kwargs)\u001b[0m\n\u001b[0;32m    317\u001b[0m \u001b[38;5;28;01mif\u001b[39;00m file \u001b[38;5;129;01min\u001b[39;00m {\u001b[38;5;241m0\u001b[39m, \u001b[38;5;241m1\u001b[39m, \u001b[38;5;241m2\u001b[39m}:\n\u001b[0;32m    318\u001b[0m     \u001b[38;5;28;01mraise\u001b[39;00m \u001b[38;5;167;01mValueError\u001b[39;00m(\n\u001b[0;32m    319\u001b[0m         \u001b[38;5;124mf\u001b[39m\u001b[38;5;124m\"\u001b[39m\u001b[38;5;124mIPython won\u001b[39m\u001b[38;5;124m'\u001b[39m\u001b[38;5;124mt let you open fd=\u001b[39m\u001b[38;5;132;01m{\u001b[39;00mfile\u001b[38;5;132;01m}\u001b[39;00m\u001b[38;5;124m by default \u001b[39m\u001b[38;5;124m\"\u001b[39m\n\u001b[0;32m    320\u001b[0m         \u001b[38;5;124m\"\u001b[39m\u001b[38;5;124mas it is likely to crash IPython. If you know what you are doing, \u001b[39m\u001b[38;5;124m\"\u001b[39m\n\u001b[0;32m    321\u001b[0m         \u001b[38;5;124m\"\u001b[39m\u001b[38;5;124myou can use builtins\u001b[39m\u001b[38;5;124m'\u001b[39m\u001b[38;5;124m open.\u001b[39m\u001b[38;5;124m\"\u001b[39m\n\u001b[0;32m    322\u001b[0m     )\n\u001b[1;32m--> 324\u001b[0m \u001b[38;5;28;01mreturn\u001b[39;00m \u001b[43mio_open\u001b[49m\u001b[43m(\u001b[49m\u001b[43mfile\u001b[49m\u001b[43m,\u001b[49m\u001b[43m \u001b[49m\u001b[38;5;241;43m*\u001b[39;49m\u001b[43margs\u001b[49m\u001b[43m,\u001b[49m\u001b[43m \u001b[49m\u001b[38;5;241;43m*\u001b[39;49m\u001b[38;5;241;43m*\u001b[39;49m\u001b[43mkwargs\u001b[49m\u001b[43m)\u001b[49m\n",
      "\u001b[1;31mPermissionError\u001b[0m: [Errno 13] Permission denied: 'Web_Scraping_from_Amazon.csv'"
     ]
    }
   ],
   "source": [
    "# Now we can automate the process with time library\n",
    "\n",
    "while(True):\n",
    "    amazon_price_check()\n",
    "    time.sleep(86400)                      #in 1 Day = 86400 seconds"
   ]
  },
  {
   "cell_type": "code",
   "execution_count": 134,
   "id": "92fcab21-5a19-403c-9cee-6a876b12e8ce",
   "metadata": {},
   "outputs": [
    {
     "name": "stdout",
     "output_type": "stream",
     "text": [
      "                                               Title   Price        Date\n",
      "0  Google Pixel 9 - Unlocked Android Smartphone w...  786.99  2024-09-22\n",
      "1  Google Pixel 9 - Unlocked Android Smartphone w...  786.99  2024-09-22\n",
      "2  Google Pixel 9 - Unlocked Android Smartphone w...  786.99  2024-09-22\n",
      "3  Google Pixel 9 - Unlocked Android Smartphone w...  786.99  2024-09-22\n",
      "4  Google Pixel 9 - Unlocked Android Smartphone w...  786.99  2024-09-22\n",
      "5  Google Pixel 9 - Unlocked Android Smartphone w...  786.99  2024-09-22\n",
      "6  Google Pixel 9 - Unlocked Android Smartphone w...  786.99  2024-09-22\n",
      "7  Google Pixel 9 - Unlocked Android Smartphone w...  786.99  2024-09-22\n",
      "8  Google Pixel 9 - Unlocked Android Smartphone w...  786.99  2024-09-22\n",
      "9  Google Pixel 9 - Unlocked Android Smartphone w...  786.99  2024-09-22\n"
     ]
    }
   ],
   "source": [
    "import pandas as pd\n",
    "\n",
    "df = pd.read_csv(r'C:\\Users\\Alt\\Documents\\jupyter notebook files\\Git\\Web_Scraping_from_Amazon.csv')\n",
    "print(df)"
   ]
  }
 ],
 "metadata": {
  "kernelspec": {
   "display_name": "Python 3 (ipykernel)",
   "language": "python",
   "name": "python3"
  },
  "language_info": {
   "codemirror_mode": {
    "name": "ipython",
    "version": 3
   },
   "file_extension": ".py",
   "mimetype": "text/x-python",
   "name": "python",
   "nbconvert_exporter": "python",
   "pygments_lexer": "ipython3",
   "version": "3.12.2"
  }
 },
 "nbformat": 4,
 "nbformat_minor": 5
}
